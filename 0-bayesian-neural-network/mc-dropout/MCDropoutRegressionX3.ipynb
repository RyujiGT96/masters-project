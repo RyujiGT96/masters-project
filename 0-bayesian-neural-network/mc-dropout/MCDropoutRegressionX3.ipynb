{
 "cells": [
  {
   "cell_type": "code",
   "execution_count": 11,
   "metadata": {},
   "outputs": [],
   "source": [
    "%matplotlib inline\n",
    "import math\n",
    "import numpy as np\n",
    "import matplotlib.pyplot as plt\n",
    "from tqdm import tqdm\n",
    "# PyTorch\n",
    "import torch\n",
    "import torch.nn as nn\n",
    "import torch.nn.functional as F\n",
    "import torch.optim as optim\n",
    "# Scikit-learn\n",
    "from sklearn.metrics import r2_score"
   ]
  },
  {
   "cell_type": "code",
   "execution_count": 12,
   "metadata": {},
   "outputs": [],
   "source": [
    "class Net(nn.Module):\n",
    "    # neural network model\n",
    "    def __init__(self, input_dim, output_dim, num_units, dropout, init_log_noise):\n",
    "        super().__init__()\n",
    "        # data information\n",
    "        self.input_dim = input_dim\n",
    "        self.output_dim = output_dim\n",
    "        # hyperparameters\n",
    "        self.num_units = num_units\n",
    "        self.dropout = dropout\n",
    "        self.init_log_noise = init_log_noise\n",
    "        \n",
    "        # define network layers\n",
    "        self.l1 = nn.Linear(self.input_dim, self.num_units)\n",
    "        self.l2 = nn.Linear(self.num_units, self.output_dim)\n",
    "        \n",
    "        # noise\n",
    "        self.log_noise = nn.Parameter(torch.tensor([self.init_log_noise], dtype = torch.float))\n",
    "        \n",
    "    def forward(self, x):\n",
    "        x = self.l1(x)\n",
    "        x = F.relu(x)\n",
    "        x = F.dropout(x, p = self.dropout)\n",
    "        \n",
    "        x = self.l2(x)\n",
    "        \n",
    "        return x"
   ]
  },
  {
   "cell_type": "code",
   "execution_count": 13,
   "metadata": {},
   "outputs": [],
   "source": [
    "# loss function\n",
    "# negative log likelihood\n",
    "def log_gaussian_loss(output, target, sigma, no_dim):\n",
    "    exponent = -0.5*(target - output)**2/sigma**2\n",
    "    log_coeff = -no_dim*torch.log(sigma)  \n",
    "    return -(log_coeff + exponent).sum()"
   ]
  },
  {
   "cell_type": "code",
   "execution_count": 14,
   "metadata": {},
   "outputs": [],
   "source": [
    "# função para geração dos dados\n",
    "np.random.seed(2)\n",
    "def define_dataset(rebuild_data = False, size = 50):\n",
    "    if rebuild_data == True:\n",
    "        X = np.random.uniform(-4, 4, size=size).reshape(-1, 1)\n",
    "        noise = np.random.normal(0, 3, size=size).reshape(-1, 1)\n",
    "        y = X ** 3 + noise\n",
    "        data = np.hstack((X,y))\n",
    "        np.save('dataset.npy', data)    \n",
    "    dataset = np.load('dataset.npy')\n",
    "    return dataset"
   ]
  },
  {
   "cell_type": "code",
   "execution_count": 15,
   "metadata": {},
   "outputs": [
    {
     "data": {
      "image/png": "[encoded data removed]",
      "text/plain": [
       "<Figure size 432x288 with 1 Axes>"
      ]
     },
     "metadata": {
      "needs_background": "light"
     },
     "output_type": "display_data"
    }
   ],
   "source": [
    "# dados de treinamento\n",
    "dataset = define_dataset(rebuild_data = False, size = 50)\n",
    "X_train = dataset[:,0]\n",
    "y_train = dataset[:,1]\n",
    "\n",
    "# curva real\n",
    "X_true = np.linspace(-4, 4, 50).reshape(-1, 1)\n",
    "y_true = X_true ** 3\n",
    "\n",
    "# conversão para tensores\n",
    "X_train_tensor = torch.as_tensor(X_train, dtype = torch.float32).view(-1,1)\n",
    "y_train_tensor = torch.as_tensor(y_train, dtype = torch.float32).view(-1,1)\n",
    "\n",
    "# plot dos dados \n",
    "plt.scatter(X_train, y_train, marker='o', label='Dados de treinamento', c='b', s=10)\n",
    "#plt.plot(X_true, y_true, label='Curva Y = X^3')\n",
    "plt.title('Dados de treinamento')\n",
    "plt.xlabel('X')\n",
    "plt.ylabel('Y')\n",
    "# plt.legend()\n",
    "plt.show()"
   ]
  },
  {
   "cell_type": "code",
   "execution_count": 16,
   "metadata": {},
   "outputs": [
    {
     "name": "stderr",
     "output_type": "stream",
     "text": [
      "100%|██████████████████████████████████████████████████████████████████████████████| 200/200 [00:00<00:00, 1023.66it/s]\n"
     ]
    },
    {
     "data": {
      "image/png": "[encoded data removed]",
      "text/plain": [
       "<Figure size 432x288 with 1 Axes>"
      ]
     },
     "metadata": {
      "needs_background": "light"
     },
     "output_type": "display_data"
    }
   ],
   "source": [
    "# training neural network\n",
    "learn_rate = 0.08\n",
    "batch_size = len(X_train)\n",
    "num_batches = 1\n",
    "\n",
    "# sigma\n",
    "noise = torch.Tensor([[3]])\n",
    "\n",
    "net = Net(input_dim = 1, output_dim = 1, num_units = 100, dropout = 0.5, init_log_noise = 0)\n",
    "optimizer = optim.Adam(net.parameters(), lr = learn_rate)\n",
    "loss_function = log_gaussian_loss\n",
    "\n",
    "num_epochs = 200\n",
    "loss_log = []\n",
    "for i in tqdm(range(num_epochs)):\n",
    "    optimizer.zero_grad()\n",
    "    output = net(X_train_tensor)\n",
    "    loss = loss_function(output, y_train_tensor, noise, 1)/len(X_train)\n",
    "    loss_log.append(loss.item())\n",
    "    loss.backward()\n",
    "    optimizer.step()\n",
    "\n",
    "plt.plot(range(num_epochs), loss_log, label = 'Loss')\n",
    "plt.legend()\n",
    "plt.show()    "
   ]
  },
  {
   "cell_type": "code",
   "execution_count": 17,
   "metadata": {},
   "outputs": [],
   "source": [
    "# Dados de teste\n",
    "X_test = np.linspace(-5,5)\n",
    "y_test = X_test ** 3\n",
    "X_test_tensor = torch.as_tensor(X_test, dtype = torch.float32).view(-1,1)\n",
    "y_test_tensor = torch.as_tensor(y_test, dtype = torch.float32).view(-1,1)"
   ]
  },
  {
   "cell_type": "code",
   "execution_count": 18,
   "metadata": {},
   "outputs": [
    {
     "name": "stderr",
     "output_type": "stream",
     "text": [
      "100%|████████████████████████████████████████████████████████████████████████████| 1000/1000 [00:00<00:00, 7646.11it/s]\n"
     ]
    }
   ],
   "source": [
    "# Monte Carlo dropout\n",
    "with torch.no_grad():\n",
    "    samples = []\n",
    "    noise = []\n",
    "    # number of samples\n",
    "    T = 1000 \n",
    "    for i in tqdm(range(T)):\n",
    "        pred = net.forward(X_test_tensor)\n",
    "        pred = pred.numpy()\n",
    "        samples.append(pred)\n",
    "    # results\n",
    "    samples = np.array(samples)\n",
    "    mean = np.mean(samples, axis = 0).reshape(-1)\n",
    "    var = np.var(samples, axis = 0).reshape(-1)"
   ]
  },
  {
   "cell_type": "code",
   "execution_count": 19,
   "metadata": {},
   "outputs": [
    {
     "data": {
      "image/png": "[encoded data removed]",
      "text/plain": [
       "<Figure size 432x288 with 1 Axes>"
      ]
     },
     "metadata": {
      "needs_background": "light"
     },
     "output_type": "display_data"
    }
   ],
   "source": [
    "plt.plot(X_test, mean, 'r-', label='Predições do modelo')\n",
    "plt.fill_between(X_test, \n",
    "                 mean + 3*(var**0.5), \n",
    "                 mean - 3*(var**0.5), \n",
    "                 alpha=0.5, color ='darksalmon', label='Incertezas')\n",
    "plt.plot(X_test, y_test, 'k--', label='Curva Y = X^3')\n",
    "plt.scatter(X_train, y_train, marker='o', c='b', label='Dados de treino',  s=10)\n",
    "plt.title('MC Dropout')\n",
    "plt.xlabel('X')\n",
    "plt.ylabel('Y')\n",
    "plt.legend()\n",
    "plt.savefig('mcdropout.png')\n",
    "plt.show()"
   ]
  },
  {
   "cell_type": "markdown",
   "metadata": {},
   "source": [
    "Coefficient of Determination $R^{2}$"
   ]
  },
  {
   "cell_type": "code",
   "execution_count": 20,
   "metadata": {},
   "outputs": [
    {
     "data": {
      "text/plain": [
       "0.9101945317454043"
      ]
     },
     "execution_count": 20,
     "metadata": {},
     "output_type": "execute_result"
    }
   ],
   "source": [
    "r2 = r2_score(y_test, mean)\n",
    "r2"
   ]
  },
  {
   "cell_type": "code",
   "execution_count": null,
   "metadata": {},
   "outputs": [],
   "source": []
  }
 ],
 "metadata": {
  "kernelspec": {
   "display_name": "Python 3",
   "language": "python",
   "name": "python3"
  },
  "language_info": {
   "codemirror_mode": {
    "name": "ipython",
    "version": 3
   },
   "file_extension": ".py",
   "mimetype": "text/x-python",
   "name": "python",
   "nbconvert_exporter": "python",
   "pygments_lexer": "ipython3",
   "version": "3.8.5"
  }
 },
 "nbformat": 4,
 "nbformat_minor": 4
}

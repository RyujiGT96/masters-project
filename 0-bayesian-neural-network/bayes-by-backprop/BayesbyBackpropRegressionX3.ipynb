{
 "cells": [
  {
   "cell_type": "code",
   "execution_count": 1,
   "metadata": {},
   "outputs": [],
   "source": [
    "%matplotlib inline\n",
    "import math\n",
    "import numpy as np\n",
    "import matplotlib.pyplot as plt\n",
    "from tqdm import tqdm\n",
    "# PyTorch\n",
    "import torch\n",
    "import torch.nn as nn\n",
    "import torch.nn.functional as F\n",
    "import torch.optim as optim\n",
    "# Scikit-learn\n",
    "from sklearn.metrics import r2_score"
   ]
  },
  {
   "cell_type": "code",
   "execution_count": 2,
   "metadata": {},
   "outputs": [],
   "source": [
    "# distribuição a priori dos  valores de parâmetros da rede neural\n",
    "# opta-se por utilizar distibuições que consistem em misturas de distribuições normais gaussianas\n",
    "class GaussianMixturePrior():\n",
    "    def __init__(self, pi, sigma1, sigma2):\n",
    "        super().__init__()\n",
    "        self.pi = pi\n",
    "        self.sigma1 = sigma1\n",
    "        self.sigma2 = sigma2\n",
    "        self.gaussian1 = torch.distributions.Normal(0, sigma1)\n",
    "        self.gaussian2 = torch.distributions.Normal(0, sigma2)\n",
    "\n",
    "    def log_prob(self, input):\n",
    "        prob1 = torch.exp(self.gaussian1.log_prob(input))\n",
    "        prob2 = torch.exp(self.gaussian2.log_prob(input))\n",
    "        return (torch.log(self.pi*prob1 + (1 - self.pi)*prob2)).sum()"
   ]
  },
  {
   "cell_type": "code",
   "execution_count": 3,
   "metadata": {},
   "outputs": [],
   "source": [
    "class GaussianPrior():\n",
    "    def __init__(self, mu, sigma):\n",
    "        self.mu = mu\n",
    "        self.sigma = sigma\n",
    "        self.gaussian = torch.distributions.Normal(mu, sigma)\n",
    "        \n",
    "    def log_prob(self, input):\n",
    "        return self.gaussian.log_prob(input).sum()"
   ]
  },
  {
   "cell_type": "code",
   "execution_count": 4,
   "metadata": {},
   "outputs": [],
   "source": [
    "# distribuição variacional a posteriori dos valores de parâmetros da rede neural\n",
    "# opta-se por distribuições normais gaussianas: theta = (mu, rho)\n",
    "class VariationalPosterior():\n",
    "    def __init__(self, mu, rho):\n",
    "        super().__init__()\n",
    "        self.mu = mu\n",
    "        self.rho = rho\n",
    "        self.normal = torch.distributions.Normal(0,1)\n",
    "        \n",
    "    @property\n",
    "    def sigma(self):\n",
    "        return torch.log1p(torch.exp(self.rho))\n",
    "\n",
    "    def sample(self):\n",
    "        epsilon = self.normal.sample(self.rho.size())\n",
    "        return self.mu + self.sigma * epsilon\n",
    "\n",
    "    def log_prob(self, input):\n",
    "        return (- math.log(math.sqrt(2*math.pi))\n",
    "                - torch.log(self.sigma)\n",
    "                - ((input - self.mu)**2) / (2 * self.sigma**2)).sum()"
   ]
  },
  {
   "cell_type": "code",
   "execution_count": 5,
   "metadata": {},
   "outputs": [],
   "source": [
    "# camada de uma rede neural bayesiana\n",
    "class BayesianLayer(nn.Module):\n",
    "    def __init__(self, in_features, out_features):\n",
    "        super().__init__()\n",
    "        self.in_features = in_features\n",
    "        self.out_features = out_features\n",
    "        \n",
    "        # distribuição variacional a posteriori dos parâmetros\n",
    "        # parâmetros pesos\n",
    "        self.weight_mu = nn.Parameter(torch.empty(out_features, in_features).uniform_(-0.2, 0.2))\n",
    "        self.weight_rho = nn.Parameter(torch.empty(out_features, in_features).uniform_(-5,-4))\n",
    "        self.weight = VariationalPosterior(self.weight_mu, self.weight_rho)\n",
    "\n",
    "        # parâmetros bias\n",
    "        self.bias_mu = nn.Parameter(torch.empty(out_features).uniform_(-0.2, 0.2))\n",
    "        self.bias_rho = nn.Parameter(torch.empty(out_features).uniform_(-5,-4))\n",
    "        self.bias = VariationalPosterior(self.bias_mu, self.bias_rho)\n",
    "\n",
    "        # distribuição a priori dos parâmetros\n",
    "        # parâmetros peso\n",
    "        self.weight_prior = GaussianMixturePrior(PI, SIGMA_1, SIGMA_2)\n",
    "        # self.weight_prior = GaussianPrior(MU, SIGMA)\n",
    "        # parâmetros bias\n",
    "        self.bias_prior = GaussianMixturePrior(PI, SIGMA_1, SIGMA_2)\n",
    "        # self.bias_prior = GaussianPrior(MU, SIGMA)\n",
    "        \n",
    "        # log verossimilhança dos valores dos parâmetros para as distibuições a priori\n",
    "        self.log_prior = 0\n",
    "        # log verossimilhança dos valores dos parâmetros para as distibuições a posteriori\n",
    "        self.log_variational_posterior = 0\n",
    "\n",
    "    def forward(self, inputs, sample=False):\n",
    "        # amostragem de valores de parâmetros peso e bias\n",
    "        if self.training or sample:\n",
    "            weight = self.weight.sample()\n",
    "            bias = self.bias.sample()\n",
    "        # média das distribuições dos parâmetros\n",
    "        else:\n",
    "            weight = self.weight.mu\n",
    "            bias = self.bias.mu\n",
    "            \n",
    "        # log verossimilhança dos valores dos parâmetros para as distibuições a priori e a posteriori para os valores amostrados\n",
    "        if self.training:\n",
    "            self.log_prior = self.weight_prior.log_prob(weight) + self.bias_prior.log_prob(bias)\n",
    "            self.log_variational_posterior = self.weight.log_prob(weight) + self.bias.log_prob(bias)\n",
    "        else:\n",
    "            self.log_prior, self.log_variational_posterior = 0, 0\n",
    "\n",
    "        return F.linear(inputs, weight, bias)"
   ]
  },
  {
   "cell_type": "code",
   "execution_count": 6,
   "metadata": {},
   "outputs": [],
   "source": [
    "# estruturação da rede neural bayesiana\n",
    "class BayesianNetwork(nn.Module):\n",
    "    def __init__(self):\n",
    "        super().__init__()\n",
    "        self.l1 = BayesianLayer(1, 100)\n",
    "        self.l2 = BayesianLayer(100, 1)\n",
    "\n",
    "    def forward(self, x, sample=False):\n",
    "        x = x.view(-1, 1)\n",
    "        x = F.relu(self.l1(x, sample))\n",
    "        x = self.l2(x, sample)\n",
    "        return x\n",
    "    \n",
    "    # log verossimilhança total dos valores amostrados de parâmetros para as distibuições a priori\n",
    "    def log_prior(self):\n",
    "        return self.l1.log_prior + self.l2.log_prior\n",
    "    \n",
    "    # log verossimilhança total dos valores amostrados de parâmetros para as distibuições a posteriori\n",
    "    def log_variational_posterior(self):\n",
    "        return self.l1.log_variational_posterior + self.l2.log_variational_posterior\n",
    "    \n",
    "    # log verossimilhança total dos dados e os parâmetros amostrados\n",
    "    '''def log_likelihood_prob(self, targets, means):\n",
    "        return (-0.5*((targets - means)**2)).sum()'''\n",
    "    # negative log likelihood\n",
    "    def neg_log_likelihood(self, output, target, sigma, no_dim):\n",
    "        exponent = -0.5*(target - output)**2/sigma**2\n",
    "        log_coeff = -no_dim*torch.log(sigma)  \n",
    "        return (log_coeff + exponent).sum()\n",
    "        \n",
    "    # função custo para otimização da rede neural\n",
    "    def sample_elbo(self, inputs, targets, samples, batch_size, num_batches):\n",
    "        \n",
    "        # tensores para armazenar as amostras de resposta da rede neural\n",
    "        output_samples = torch.zeros(samples, batch_size)\n",
    "        \n",
    "        # tensores para armazenar os valores de log verossimilhança a priori e a posteriori\n",
    "        log_prior_samples = torch.zeros(samples)\n",
    "        log_variational_posterior_samples = torch.zeros(samples)\n",
    "        log_likelihood_samples = torch.zeros(samples)\n",
    "        \n",
    "        # amostragem de repostas da rede neural\n",
    "        noise = torch.Tensor([[3]])\n",
    "        for i in range(samples):\n",
    "            output_samples[i] = self.forward(inputs, sample=True).view(1,-1)\n",
    "            log_prior_samples[i] = self.log_prior()\n",
    "            log_variational_posterior_samples[i] = self.log_variational_posterior()\n",
    "            # log_likelihood_samples[i] = self.log_likelihood_prob(targets, output_samples[i])\n",
    "            log_likelihood_samples[i] = self.neg_log_likelihood(output_samples[i], targets, noise, 1)\n",
    "            \n",
    "        \n",
    "        # média das amostras de valores de log verossimilhança a priori e a posteriori\n",
    "        log_prior = log_prior_samples.mean()\n",
    "        log_variational_posterior = log_variational_posterior_samples.mean()\n",
    "        # média das amostras de log verossimilhança da rede neural\n",
    "        log_likelihood = log_likelihood_samples.mean()\n",
    "        \n",
    "        # kl divergence entre as distribuições variacionais a posteriori e as distribuições a priori\n",
    "        kl_divergence = log_variational_posterior - log_prior\n",
    "        \n",
    "        # função custo \n",
    "        loss = (kl_divergence)/num_batches - log_likelihood\n",
    "        \n",
    "        return loss, kl_divergence, -log_likelihood"
   ]
  },
  {
   "cell_type": "code",
   "execution_count": 7,
   "metadata": {},
   "outputs": [],
   "source": [
    "# função para geração dos dados\n",
    "np.random.seed(2)\n",
    "def define_dataset(rebuild_data = False, size = 50):\n",
    "    if rebuild_data == True:\n",
    "        X = np.random.uniform(-4, 4, size=size).reshape(-1, 1)\n",
    "        noise = np.random.normal(0, 3, size=size).reshape(-1, 1)\n",
    "        y = X ** 3 + noise\n",
    "        data = np.hstack((X,y))\n",
    "        np.save('dataset.npy', data)    \n",
    "    dataset = np.load('dataset.npy')\n",
    "    return dataset"
   ]
  },
  {
   "cell_type": "code",
   "execution_count": 8,
   "metadata": {},
   "outputs": [
    {
     "data": {
      "image/png": "[encoded data removed]",
      "text/plain": [
       "<Figure size 432x288 with 1 Axes>"
      ]
     },
     "metadata": {
      "needs_background": "light"
     },
     "output_type": "display_data"
    }
   ],
   "source": [
    "# dados de treinamento\n",
    "dataset = define_dataset(rebuild_data = False, size = 50)\n",
    "X_train = dataset[:,0]\n",
    "y_train = dataset[:,1]\n",
    "\n",
    "# curva real\n",
    "X_true = np.linspace(-4, 4, 50).reshape(-1, 1)\n",
    "y_true = X_true ** 3\n",
    "\n",
    "# conversão para tensores\n",
    "X_train_tensor = torch.as_tensor(X_train, dtype = torch.float32).view(-1,1)\n",
    "y_train_tensor = torch.as_tensor(y_train, dtype = torch.float32).view(-1,1)\n",
    "\n",
    "# plot dos dados \n",
    "plt.scatter(X_train, y_train, marker='o', label='Dados de treinamento', c='b', s=10)\n",
    "plt.plot(X_true, y_true, 'k--', label='Curva Y = X^3')\n",
    "plt.title('Dados de treinamento')\n",
    "plt.xlabel('X')\n",
    "plt.ylabel('Y')\n",
    "plt.legend()\n",
    "plt.savefig('train_data.png')\n",
    "plt.show()"
   ]
  },
  {
   "cell_type": "code",
   "execution_count": 9,
   "metadata": {},
   "outputs": [],
   "source": [
    "# conversão para tensor (tem que ser float32)\n",
    "train_data = torch.as_tensor(dataset, dtype = torch.float32)\n",
    "BATCH_SIZE = 50\n",
    "# data loader para a rede neural\n",
    "train_data_loader = torch.utils.data.DataLoader(train_data, batch_size = BATCH_SIZE)"
   ]
  },
  {
   "cell_type": "code",
   "execution_count": 10,
   "metadata": {},
   "outputs": [],
   "source": [
    "# iniciar rede neural\n",
    "PI = 0.5\n",
    "SIGMA_1 = torch.FloatTensor([1.5])\n",
    "SIGMA_2 = torch.FloatTensor([0.1])\n",
    "MU = torch.FloatTensor([0])\n",
    "SIGMA = torch.FloatTensor([1])\n",
    "SAMPLES = 10\n",
    "NUM_BATCHES = len(train_data_loader.dataset) / BATCH_SIZE\n",
    "EPOCHS = 200\n",
    "assert (len(train_data_loader.dataset) % BATCH_SIZE) == 0\n",
    "net = BayesianNetwork()"
   ]
  },
  {
   "cell_type": "code",
   "execution_count": 11,
   "metadata": {},
   "outputs": [
    {
     "name": "stderr",
     "output_type": "stream",
     "text": [
      "100%|████████████████████████████████████████████████████████████████████████████████| 200/200 [00:06<00:00, 29.23it/s]\n"
     ]
    },
    {
     "data": {
      "image/png": "[encoded data removed]",
      "text/plain": [
       "<Figure size 432x288 with 1 Axes>"
      ]
     },
     "metadata": {
      "needs_background": "light"
     },
     "output_type": "display_data"
    }
   ],
   "source": [
    "def train(net, optimizer, epoch):\n",
    "    net.train()\n",
    "    for batch_id, data in enumerate(train_data_loader):\n",
    "        inputs = data[:,0]\n",
    "        targets = data[:,1]\n",
    "        net.zero_grad()\n",
    "        loss, kl, lkh = net.sample_elbo(inputs, targets, samples = SAMPLES, batch_size = BATCH_SIZE, num_batches = NUM_BATCHES)\n",
    "        loss.backward()\n",
    "        optimizer.step()\n",
    "    return loss, kl, lkh\n",
    "\n",
    "optimizer = optim.Adam(net.parameters(), lr=0.08)\n",
    "loss_log = []\n",
    "kl_log = []\n",
    "lkh_log = []\n",
    "for epoch in tqdm(range(EPOCHS)):\n",
    "    loss, kl, lkh = train(net, optimizer, epoch)\n",
    "    loss_log.append(loss.item())\n",
    "    kl_log.append(kl.item())\n",
    "    lkh_log.append(lkh.item())\n",
    "plt.plot(range(EPOCHS), loss_log, label = 'Loss')\n",
    "plt.plot(range(EPOCHS), kl_log, label = 'KL')\n",
    "plt.plot(range(EPOCHS), lkh_log, label = 'Log Likelihood')\n",
    "plt.legend()\n",
    "plt.show()"
   ]
  },
  {
   "cell_type": "code",
   "execution_count": 12,
   "metadata": {},
   "outputs": [],
   "source": [
    "# Dados de teste\n",
    "X_test = np.linspace(-5,5)\n",
    "y_test = X_test ** 3\n",
    "X_test_tensor = torch.as_tensor(X_test, dtype = torch.float32).view(-1,1)\n",
    "y_test_tensor = torch.as_tensor(y_test, dtype = torch.float32).view(-1,1)"
   ]
  },
  {
   "cell_type": "code",
   "execution_count": 13,
   "metadata": {},
   "outputs": [
    {
     "name": "stderr",
     "output_type": "stream",
     "text": [
      "100%|████████████████████████████████████████████████████████████████████████████| 1000/1000 [00:00<00:00, 3469.46it/s]\n"
     ]
    },
    {
     "data": {
      "image/png": "[encoded data removed]",
      "text/plain": [
       "<Figure size 432x288 with 1 Axes>"
      ]
     },
     "metadata": {
      "needs_background": "light"
     },
     "output_type": "display_data"
    }
   ],
   "source": [
    "TEST_NUM_POINTS = len(X_test)\n",
    "T = 1000\n",
    "\n",
    "net.eval()\n",
    "y_pred_list = []\n",
    "uncertainty_list = []\n",
    "with torch.no_grad():\n",
    "    y_pred_samples = torch.zeros(T, TEST_NUM_POINTS)\n",
    "    for i in tqdm(range(T)):\n",
    "        y_pred_samples[i] = net(X_test_tensor, sample=True).view(1,-1)\n",
    "    y_pred_mean = y_pred_samples.mean(0)\n",
    "    y_pred_var = y_pred_samples.var(0)\n",
    "   \n",
    "    \n",
    "y_pred_mean = np.asarray(y_pred_mean.tolist())\n",
    "y_pred_var = np.asarray(y_pred_var.tolist())\n",
    "\n",
    "\n",
    "plt.plot(X_test, y_pred_mean, 'r-', label='Predições do modelo')\n",
    "plt.fill_between(X_test, \n",
    "                 y_pred_mean + 3*(y_pred_var**0.5), \n",
    "                 y_pred_mean - 3*(y_pred_var**0.5), \n",
    "                 alpha=0.5, color ='darksalmon', label='Incertezas')\n",
    "plt.plot(X_test, y_test, 'k--', label='Curva Y = X^3')\n",
    "plt.scatter(X_train, y_train, marker='o', c='b', label='Dados de treino',  s=10)\n",
    "plt.title('Bayes by Backprop')\n",
    "plt.xlabel('X')\n",
    "plt.ylabel('Y')\n",
    "plt.legend()\n",
    "plt.savefig('bayesbybackprop.png')\n",
    "plt.show()"
   ]
  },
  {
   "cell_type": "markdown",
   "metadata": {},
   "source": [
    "Coefficient of Determination $R^{2}$"
   ]
  },
  {
   "cell_type": "code",
   "execution_count": 14,
   "metadata": {},
   "outputs": [
    {
     "data": {
      "text/plain": [
       "0.8800552762780927"
      ]
     },
     "execution_count": 14,
     "metadata": {},
     "output_type": "execute_result"
    }
   ],
   "source": [
    "r2 = r2_score(y_test, y_pred_mean)\n",
    "r2"
   ]
  },
  {
   "cell_type": "code",
   "execution_count": null,
   "metadata": {},
   "outputs": [],
   "source": []
  }
 ],
 "metadata": {
  "kernelspec": {
   "display_name": "Python 3",
   "language": "python",
   "name": "python3"
  },
  "language_info": {
   "codemirror_mode": {
    "name": "ipython",
    "version": 3
   },
   "file_extension": ".py",
   "mimetype": "text/x-python",
   "name": "python",
   "nbconvert_exporter": "python",
   "pygments_lexer": "ipython3",
   "version": "3.8.5"
  }
 },
 "nbformat": 4,
 "nbformat_minor": 4
}
